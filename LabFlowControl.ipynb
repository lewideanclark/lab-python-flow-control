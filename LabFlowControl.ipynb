{
 "cells": [
  {
   "cell_type": "code",
   "execution_count": 3,
   "id": "0fd19955-466d-46de-b41c-dad1c40303ba",
   "metadata": {},
   "outputs": [
    {
     "name": "stdin",
     "output_type": "stream",
     "text": [
      "Enter the t-shirt quantity here:  4\n",
      "Enter the mug quantity here:  6\n",
      "Enter the hat quantity here:  2\n",
      "Enter the book quantity here:  5\n",
      "Enter the keychain quantity here:  1\n",
      "Enter the name of product 1:  t-shirt\n",
      "Enter the name of product 2:  hat\n",
      "Enter the name of product 3:  mug\n"
     ]
    },
    {
     "name": "stdout",
     "output_type": "stream",
     "text": [
      "t-shirt: 3\n",
      "mug: 5\n",
      "hat: 1\n",
      "book: 5\n",
      "keychain: 1\n"
     ]
    }
   ],
   "source": [
    "### first code from first labs\n",
    "\n",
    "products = [\"t-shirt\", \"mug\", \"hat\", \"book\", \"keychain\"]\n",
    "\n",
    "inventory = {}\n",
    "\n",
    "for items in products: \n",
    "    quantity = int(input(f\"Enter the {items} quantity here: \"))\n",
    "    inventory[items] = quantity\n",
    "\n",
    "customer_orders = set()\n",
    "\n",
    "for i in range(3):\n",
    "    product_name = input(f\"Enter the name of product {i + 1}: \")\n",
    "    customer_orders.add(product_name)\n",
    "\n",
    "total_products_ordered = len(customer_orders)\n",
    "\n",
    "percent_ordered = (total_products_ordered / len(products)) * 100\n",
    "\n",
    "order_status = (total_products_ordered, percent_ordered)\n",
    "\n",
    "for item in customer_orders:\n",
    "    inventory[item] -= 1\n",
    "\n",
    "for product, quantity in inventory.items():\n",
    "    print(f\"{product}: {quantity}\")"
   ]
  },
  {
   "cell_type": "code",
   "execution_count": 4,
   "id": "acf4e4b4-682c-401b-8f54-5549ef7fd1fb",
   "metadata": {},
   "outputs": [],
   "source": [
    "### more_order = \"yes\"\n",
    "\n",
    "### while more_order == \"yes\":\n",
    "    ### product_name = input(\"Enter the name of the product: \")\n",
    "    ### customer_orders.add(product_name)\n",
    "    ### more_order = input(\"Do you want to add another product? (yes/no): \")"
   ]
  },
  {
   "cell_type": "code",
   "execution_count": 10,
   "id": "5856a564-92a5-46f8-aa95-1491648b96a8",
   "metadata": {},
   "outputs": [
    {
     "name": "stdin",
     "output_type": "stream",
     "text": [
      "Enter the t-shirt quantity here:  10\n",
      "Enter the mug quantity here:  10\n",
      "Enter the hat quantity here:  10\n",
      "Enter the book quantity here:  10\n",
      "Enter the keychain quantity here:  10\n",
      "Enter the name of the product:  t-shirt\n",
      "Do you want to add another product? (yes/no):  yes\n",
      "Enter the name of the product:  t-shirt\n",
      "Do you want to add another product? (yes/no):  yes\n",
      "Enter the name of the product:  t-shirt\n",
      "Do you want to add another product? (yes/no):  yes\n",
      "Enter the name of the product:  hat\n",
      "Do you want to add another product? (yes/no):  yes\n",
      "Enter the name of the product:  mug\n",
      "Do you want to add another product? (yes/no):  no\n"
     ]
    },
    {
     "name": "stdout",
     "output_type": "stream",
     "text": [
      "t-shirt: 9\n",
      "mug: 9\n",
      "hat: 9\n",
      "book: 10\n",
      "keychain: 10\n",
      "Order Statistics: (3, 60.0)\n",
      "Total Products Ordered: 3\n",
      "Percentage of Products Ordered: 60.00%\n"
     ]
    }
   ],
   "source": [
    "products = [\"t-shirt\", \"mug\", \"hat\", \"book\", \"keychain\"]\n",
    "\n",
    "inventory = {}\n",
    "\n",
    "for items in products: \n",
    "    quantity = int(input(f\"Enter the {items} quantity here: \"))\n",
    "    inventory[items] = quantity\n",
    "\n",
    "customer_orders = set()\n",
    "\n",
    "more_order = \"yes\"\n",
    "\n",
    "while more_order == \"yes\":\n",
    "    product_name = input(\"Enter the name of the product: \")\n",
    "    customer_orders.add(product_name)\n",
    "    more_order = input(\"Do you want to add another product? (yes/no): \")\n",
    "\n",
    "total_products_ordered = len(customer_orders)\n",
    "\n",
    "percent_ordered = (total_products_ordered / len(products)) * 100\n",
    "\n",
    "order_status = (total_products_ordered, percent_ordered)\n",
    "\n",
    "for item in customer_orders:\n",
    "    inventory[item] -= 1\n",
    "\n",
    "for product, quantity in inventory.items():\n",
    "    print(f\"{product}: {quantity}\")\n",
    "\n",
    "\n",
    "print(\"Order Statistics:\", order_status)\n",
    "print(\"Total Products Ordered:\", order_status[0])\n",
    "print(\"Percentage of Products Ordered:\", f\"{order_status[1]:.2f}%\")"
   ]
  },
  {
   "cell_type": "code",
   "execution_count": 1,
   "id": "8c8a650c-a9cb-4dbb-add2-fdb01151084c",
   "metadata": {},
   "outputs": [],
   "source": [
    "### this only subtracts one t-shirt even though I entered this multiple times?"
   ]
  },
  {
   "cell_type": "code",
   "execution_count": null,
   "id": "137db3ff-b906-43f1-b931-a61e8f51652e",
   "metadata": {},
   "outputs": [],
   "source": []
  }
 ],
 "metadata": {
  "kernelspec": {
   "display_name": "Python [conda env:base] *",
   "language": "python",
   "name": "conda-base-py"
  },
  "language_info": {
   "codemirror_mode": {
    "name": "ipython",
    "version": 3
   },
   "file_extension": ".py",
   "mimetype": "text/x-python",
   "name": "python",
   "nbconvert_exporter": "python",
   "pygments_lexer": "ipython3",
   "version": "3.13.5"
  }
 },
 "nbformat": 4,
 "nbformat_minor": 5
}
